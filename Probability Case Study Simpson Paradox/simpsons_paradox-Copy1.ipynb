{
 "cells": [
  {
   "cell_type": "markdown",
   "metadata": {
    "collapsed": true
   },
   "source": [
    "# Simpson's Paradox\n",
    "Use `admission_data.csv` for this exercise."
   ]
  },
  {
   "cell_type": "code",
   "execution_count": 1,
   "metadata": {},
   "outputs": [
    {
     "name": "stdout",
     "output_type": "stream",
     "text": [
      "   student_id  gender      major  admitted\n",
      "0       35377  female  Chemistry     False\n",
      "1       56105    male    Physics      True\n",
      "2       31441  female  Chemistry     False\n",
      "3       51765    male    Physics      True\n",
      "4       53714  female    Physics      True\n"
     ]
    }
   ],
   "source": [
    "import pandas as pd\n",
    "# Load and view first few lines of dataset\n",
    "df= pd.read_csv('admission_data.csv')\n",
    "print(df.head())"
   ]
  },
  {
   "cell_type": "markdown",
   "metadata": {},
   "source": [
    "### Proportion and admission rate for each gender"
   ]
  },
  {
   "cell_type": "code",
   "execution_count": 18,
   "metadata": {},
   "outputs": [
    {
     "name": "stdout",
     "output_type": "stream",
     "text": [
      "500\n",
      "0.514\n"
     ]
    }
   ],
   "source": [
    "# Proportion of students that are female\n",
    "total=df.shape[0]\n",
    "cal=df[df[\"gender\"]==\"female\"].count()\n",
    "print(cal[\"gender\"]/total)\n"
   ]
  },
  {
   "cell_type": "code",
   "execution_count": 19,
   "metadata": {},
   "outputs": [
    {
     "name": "stdout",
     "output_type": "stream",
     "text": [
      "0.486\n"
     ]
    }
   ],
   "source": [
    "# Proportion of students that are male\n",
    "cal=df[df[\"gender\"]==\"male\"].count()\n",
    "print(cal[\"gender\"]/total)"
   ]
  },
  {
   "cell_type": "code",
   "execution_count": 23,
   "metadata": {},
   "outputs": [
    {
     "name": "stdout",
     "output_type": "stream",
     "text": [
      "                 student_id  major\n",
      "gender admitted                   \n",
      "female False            183    183\n",
      "       True              74     74\n",
      "male   False            125    125\n",
      "       True             118    118\n",
      "0.28793774319066145\n"
     ]
    }
   ],
   "source": [
    "# Admission rate for females\n",
    "femaleAdmission= df.groupby([\"gender\",\"admitted\"]).count()\n",
    "print(femaleAdmission)\n",
    "print(74/257)"
   ]
  },
  {
   "cell_type": "code",
   "execution_count": 26,
   "metadata": {},
   "outputs": [
    {
     "name": "stdout",
     "output_type": "stream",
     "text": [
      "                 student_id  major\n",
      "gender admitted                   \n",
      "female False            183    183\n",
      "       True              74     74\n",
      "male   False            125    125\n",
      "       True             118    118\n",
      "0.48559670781893005\n"
     ]
    }
   ],
   "source": [
    "# Admission rate for males\n",
    "maleAdmission= df.groupby([\"gender\",\"admitted\"]).count()\n",
    "print(maleAdmission)\n",
    "print(118/243)femaleAdmission= df.groupby([\"gender\",\"admitted\"]).count()\n",
    "print(femaleAdmission)\n",
    "print(118/243)"
   ]
  },
  {
   "cell_type": "markdown",
   "metadata": {},
   "source": [
    "### Proportion and admission rate for physics majors of each gender"
   ]
  },
  {
   "cell_type": "code",
   "execution_count": 45,
   "metadata": {},
   "outputs": [
    {
     "name": "stdout",
     "output_type": "stream",
     "text": [
      "                  student_id  admitted\n",
      "gender major                          \n",
      "female Chemistry         226       226\n",
      "       Physics            31        31\n",
      "male   Chemistry          18        18\n",
      "       Physics           225       225\n",
      "0.12062256809338522\n"
     ]
    }
   ],
   "source": [
    "# What proportion of female students are majoring in physics?\n",
    "femaleInPhysics= df.groupby([\"gender\",\"major\"]).count()\n",
    "print(femaleInPhysics)\n",
    "print(31/(226+31))"
   ]
  },
  {
   "cell_type": "code",
   "execution_count": 46,
   "metadata": {},
   "outputs": [
    {
     "name": "stdout",
     "output_type": "stream",
     "text": [
      "                  student_id  admitted\n",
      "gender major                          \n",
      "female Chemistry         226       226\n",
      "       Physics            31        31\n",
      "male   Chemistry          18        18\n",
      "       Physics           225       225\n",
      "0.9259259259259259\n"
     ]
    }
   ],
   "source": [
    "# What proportion of male students are majoring in physics?\n",
    "maleInPhysics= df.groupby([\"gender\",\"major\"]).count()\n",
    "print(maleInPhysics)\n",
    "print(225/(225+18))"
   ]
  },
  {
   "cell_type": "code",
   "execution_count": 37,
   "metadata": {},
   "outputs": [
    {
     "name": "stdout",
     "output_type": "stream",
     "text": [
      "                           student_id\n",
      "gender admitted major                \n",
      "female False    Chemistry         175\n",
      "                Physics             8\n",
      "       True     Chemistry          51\n",
      "                Physics            23\n",
      "male   False    Chemistry          16\n",
      "                Physics           109\n",
      "       True     Chemistry           2\n",
      "                Physics           116\n",
      "0.7419354838709677\n"
     ]
    }
   ],
   "source": [
    "# Admission rate for female physics majors\n",
    "femaleMajorAdmission= df.groupby([\"gender\",\"admitted\",\"major\"]).count()\n",
    "print(femaleMajorAdmission)\n",
    "print(23/31)"
   ]
  },
  {
   "cell_type": "code",
   "execution_count": 38,
   "metadata": {},
   "outputs": [
    {
     "name": "stdout",
     "output_type": "stream",
     "text": [
      "                           student_id\n",
      "gender admitted major                \n",
      "female False    Chemistry         175\n",
      "                Physics             8\n",
      "       True     Chemistry          51\n",
      "                Physics            23\n",
      "male   False    Chemistry          16\n",
      "                Physics           109\n",
      "       True     Chemistry           2\n",
      "                Physics           116\n",
      "0.5155555555555555\n"
     ]
    }
   ],
   "source": [
    "# Admission rate for male physics majors\n",
    "maleMajorAdmission= df.groupby([\"gender\",\"admitted\",\"major\"]).count()\n",
    "print(maleMajorAdmission)\n",
    "print(116/(116+109))"
   ]
  },
  {
   "cell_type": "markdown",
   "metadata": {},
   "source": [
    "### Proportion and admission rate for chemistry majors of each gender"
   ]
  },
  {
   "cell_type": "code",
   "execution_count": null,
   "metadata": {
    "collapsed": true
   },
   "outputs": [],
   "source": [
    "# What proportion of female students are majoring in chemistry?\n"
   ]
  },
  {
   "cell_type": "code",
   "execution_count": null,
   "metadata": {
    "collapsed": true
   },
   "outputs": [],
   "source": [
    "# What proportion of male students are majoring in chemistry?\n"
   ]
  },
  {
   "cell_type": "code",
   "execution_count": null,
   "metadata": {
    "collapsed": true
   },
   "outputs": [],
   "source": [
    "# Admission rate for female chemistry majors\n"
   ]
  },
  {
   "cell_type": "code",
   "execution_count": null,
   "metadata": {
    "collapsed": true
   },
   "outputs": [],
   "source": [
    "# Admission rate for male chemistry majors\n"
   ]
  },
  {
   "cell_type": "markdown",
   "metadata": {},
   "source": [
    "### Admission rate for each major"
   ]
  },
  {
   "cell_type": "code",
   "execution_count": null,
   "metadata": {
    "collapsed": true
   },
   "outputs": [],
   "source": [
    "# Admission rate for physics majors\n"
   ]
  },
  {
   "cell_type": "code",
   "execution_count": null,
   "metadata": {
    "collapsed": true
   },
   "outputs": [],
   "source": [
    "# Admission rate for chemistry majors\n"
   ]
  }
 ],
 "metadata": {
  "kernelspec": {
   "display_name": "Python 3",
   "language": "python",
   "name": "python3"
  },
  "language_info": {
   "codemirror_mode": {
    "name": "ipython",
    "version": 3
   },
   "file_extension": ".py",
   "mimetype": "text/x-python",
   "name": "python",
   "nbconvert_exporter": "python",
   "pygments_lexer": "ipython3",
   "version": "3.6.3"
  }
 },
 "nbformat": 4,
 "nbformat_minor": 2
}
